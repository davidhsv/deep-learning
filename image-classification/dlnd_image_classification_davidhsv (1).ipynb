{
 "cells": [
  {
   "cell_type": "markdown",
   "metadata": {
    "collapsed": true,
    "deletable": true,
    "editable": true
   },
   "source": [
    "# Image Classification\n",
    "In this project, you'll classify images from the [CIFAR-10 dataset](https://www.cs.toronto.edu/~kriz/cifar.html).  The dataset consists of airplanes, dogs, cats, and other objects. You'll preprocess the images, then train a convolutional neural network on all the samples. The images need to be normalized and the labels need to be one-hot encoded.  You'll get to apply what you learned and build a convolutional, max pooling, dropout, and fully connected layers.  At the end, you'll get to see your neural network's predictions on the sample images.\n",
    "## Get the Data\n",
    "Run the following cell to download the [CIFAR-10 dataset for python](https://www.cs.toronto.edu/~kriz/cifar-10-python.tar.gz)."
   ]
  },
  {
   "cell_type": "code",
   "execution_count": 1,
   "metadata": {
    "collapsed": false,
    "deletable": true,
    "editable": true
   },
   "outputs": [
    {
     "name": "stdout",
     "output_type": "stream",
     "text": [
      "All files found!\n"
     ]
    }
   ],
   "source": [
    "\"\"\"\n",
    "DON'T MODIFY ANYTHING IN THIS CELL THAT IS BELOW THIS LINE\n",
    "\"\"\"\n",
    "from urllib.request import urlretrieve\n",
    "from os.path import isfile, isdir\n",
    "from tqdm import tqdm\n",
    "import problem_unittests as tests\n",
    "import tarfile\n",
    "\n",
    "cifar10_dataset_folder_path = 'cifar-10-batches-py'\n",
    "\n",
    "# Use Floyd's cifar-10 dataset if present\n",
    "floyd_cifar10_location = '/input/cifar-10/python.tar.gz'\n",
    "if isfile(floyd_cifar10_location):\n",
    "    tar_gz_path = floyd_cifar10_location\n",
    "else:\n",
    "    tar_gz_path = 'cifar-10-python.tar.gz'\n",
    "\n",
    "class DLProgress(tqdm):\n",
    "    last_block = 0\n",
    "\n",
    "    def hook(self, block_num=1, block_size=1, total_size=None):\n",
    "        self.total = total_size\n",
    "        self.update((block_num - self.last_block) * block_size)\n",
    "        self.last_block = block_num\n",
    "\n",
    "if not isfile(tar_gz_path):\n",
    "    with DLProgress(unit='B', unit_scale=True, miniters=1, desc='CIFAR-10 Dataset') as pbar:\n",
    "        urlretrieve(\n",
    "            'https://www.cs.toronto.edu/~kriz/cifar-10-python.tar.gz',\n",
    "            tar_gz_path,\n",
    "            pbar.hook)\n",
    "\n",
    "if not isdir(cifar10_dataset_folder_path):\n",
    "    with tarfile.open(tar_gz_path) as tar:\n",
    "        tar.extractall()\n",
    "        tar.close()\n",
    "\n",
    "\n",
    "tests.test_folder_path(cifar10_dataset_folder_path)"
   ]
  },
  {
   "cell_type": "markdown",
   "metadata": {
    "deletable": true,
    "editable": true
   },
   "source": [
    "## Explore the Data\n",
    "The dataset is broken into batches to prevent your machine from running out of memory.  The CIFAR-10 dataset consists of 5 batches, named `data_batch_1`, `data_batch_2`, etc.. Each batch contains the labels and images that are one of the following:\n",
    "* airplane\n",
    "* automobile\n",
    "* bird\n",
    "* cat\n",
    "* deer\n",
    "* dog\n",
    "* frog\n",
    "* horse\n",
    "* ship\n",
    "* truck\n",
    "\n",
    "Understanding a dataset is part of making predictions on the data.  Play around with the code cell below by changing the `batch_id` and `sample_id`. The `batch_id` is the id for a batch (1-5). The `sample_id` is the id for a image and label pair in the batch.\n",
    "\n",
    "Ask yourself \"What are all possible labels?\", \"What is the range of values for the image data?\", \"Are the labels in order or random?\".  Answers to questions like these will help you preprocess the data and end up with better predictions."
   ]
  },
  {
   "cell_type": "code",
   "execution_count": 2,
   "metadata": {
    "collapsed": false,
    "deletable": true,
    "editable": true
   },
   "outputs": [
    {
     "name": "stdout",
     "output_type": "stream",
     "text": [
      "\n",
      "Stats of batch 2:\n",
      "Samples: 10000\n",
      "Label Counts: {0: 984, 1: 1007, 2: 1010, 3: 995, 4: 1010, 5: 988, 6: 1008, 7: 1026, 8: 987, 9: 985}\n",
      "First 20 Labels: [1, 6, 6, 8, 8, 3, 4, 6, 0, 6, 0, 3, 6, 6, 5, 4, 8, 3, 2, 6]\n",
      "\n",
      "Example of Image 5:\n",
      "Image - Min Value: 3 Max Value: 219\n",
      "Image - Shape: (32, 32, 3)\n",
      "Label - Label Id: 3 Name: cat\n"
     ]
    },
    {
     "data": {
      "image/png": "[encoded data removed]",
      "text/plain": [
       "<matplotlib.figure.Figure at 0x7fe15d81a8d0>"
      ]
     },
     "metadata": {
      "image/png": {
       "height": 250,
       "width": 253
      }
     },
     "output_type": "display_data"
    }
   ],
   "source": [
    "%matplotlib inline\n",
    "%config InlineBackend.figure_format = 'retina'\n",
    "\n",
    "import helper\n",
    "import numpy as np\n",
    "\n",
    "# Explore the dataset\n",
    "batch_id = 2\n",
    "sample_id = 5\n",
    "helper.display_stats(cifar10_dataset_folder_path, batch_id, sample_id)"
   ]
  },
  {
   "cell_type": "markdown",
   "metadata": {
    "deletable": true,
    "editable": true
   },
   "source": [
    "## Implement Preprocess Functions\n",
    "### Normalize\n",
    "In the cell below, implement the `normalize` function to take in image data, `x`, and return it as a normalized Numpy array. The values should be in the range of 0 to 1, inclusive.  The return object should be the same shape as `x`."
   ]
  },
  {
   "cell_type": "code",
   "execution_count": 3,
   "metadata": {
    "collapsed": false,
    "deletable": true,
    "editable": true
   },
   "outputs": [
    {
     "name": "stdout",
     "output_type": "stream",
     "text": [
      "Tests Passed\n"
     ]
    }
   ],
   "source": [
    "def normalize(x):\n",
    "    \"\"\"\n",
    "    Normalize a list of sample image data in the range of 0 to 1\n",
    "    : x: List of image data.  The image shape is (32, 32, 3)\n",
    "    : return: Numpy array of normalize data\n",
    "    \"\"\"\n",
    "    # min value = 0, max value = 255 -> x / 255 [0, 1]\n",
    "    return x/255\n",
    "\n",
    "\n",
    "\"\"\"\n",
    "DON'T MODIFY ANYTHING IN THIS CELL THAT IS BELOW THIS LINE\n",
    "\"\"\"\n",
    "tests.test_normalize(normalize)"
   ]
  },
  {
   "cell_type": "markdown",
   "metadata": {
    "deletable": true,
    "editable": true
   },
   "source": [
    "### One-hot encode\n",
    "Just like the previous code cell, you'll be implementing a function for preprocessing.  This time, you'll implement the `one_hot_encode` function. The input, `x`, are a list of labels.  Implement the function to return the list of labels as One-Hot encoded Numpy array.  The possible values for labels are 0 to 9. The one-hot encoding function should return the same encoding for each value between each call to `one_hot_encode`.  Make sure to save the map of encodings outside the function.\n",
    "\n",
    "Hint: Don't reinvent the wheel."
   ]
  },
  {
   "cell_type": "code",
   "execution_count": 4,
   "metadata": {
    "collapsed": false,
    "deletable": true,
    "editable": true
   },
   "outputs": [
    {
     "name": "stdout",
     "output_type": "stream",
     "text": [
      "[ 1.  0.  0.  0.  0.  0.  0.  0.  0.  0.]\n",
      "Tests Passed\n"
     ]
    }
   ],
   "source": [
    "def one_hot_encode(x):\n",
    "    \"\"\"\n",
    "    One hot encode a list of sample labels. Return a one-hot encoded vector for each label.\n",
    "    : x: List of sample Labels\n",
    "    : return: Numpy array of one-hot encoded labels\n",
    "    \"\"\"\n",
    "    return np.eye(10)[x] # http://stackoverflow.com/a/37323404\n",
    "\n",
    "print(one_hot_encode(0))\n",
    "\"\"\"\n",
    "DON'T MODIFY ANYTHING IN THIS CELL THAT IS BELOW THIS LINE\n",
    "\"\"\"\n",
    "tests.test_one_hot_encode(one_hot_encode)"
   ]
  },
  {
   "cell_type": "markdown",
   "metadata": {
    "deletable": true,
    "editable": true
   },
   "source": [
    "### Randomize Data\n",
    "As you saw from exploring the data above, the order of the samples are randomized.  It doesn't hurt to randomize it again, but you don't need to for this dataset."
   ]
  },
  {
   "cell_type": "markdown",
   "metadata": {
    "deletable": true,
    "editable": true
   },
   "source": [
    "## Preprocess all the data and save it\n",
    "Running the code cell below will preprocess all the CIFAR-10 data and save it to file. The code below also uses 10% of the training data for validation."
   ]
  },
  {
   "cell_type": "code",
   "execution_count": 5,
   "metadata": {
    "collapsed": false,
    "deletable": true,
    "editable": true
   },
   "outputs": [],
   "source": [
    "\"\"\"\n",
    "DON'T MODIFY ANYTHING IN THIS CELL\n",
    "\"\"\"\n",
    "# Preprocess Training, Validation, and Testing Data\n",
    "helper.preprocess_and_save_data(cifar10_dataset_folder_path, normalize, one_hot_encode)"
   ]
  },
  {
   "cell_type": "markdown",
   "metadata": {
    "deletable": true,
    "editable": true
   },
   "source": [
    "# Check Point\n",
    "This is your first checkpoint.  If you ever decide to come back to this notebook or have to restart the notebook, you can start from here.  The preprocessed data has been saved to disk."
   ]
  },
  {
   "cell_type": "code",
   "execution_count": 8,
   "metadata": {
    "collapsed": false,
    "deletable": true,
    "editable": true
   },
   "outputs": [],
   "source": [
    "\"\"\"\n",
    "DON'T MODIFY ANYTHING IN THIS CELL\n",
    "\"\"\"\n",
    "import pickle\n",
    "import problem_unittests as tests\n",
    "import helper\n",
    "\n",
    "# Load the Preprocessed Validation data\n",
    "valid_features, valid_labels = pickle.load(open('preprocess_validation.p', mode='rb'))"
   ]
  },
  {
   "cell_type": "markdown",
   "metadata": {
    "deletable": true,
    "editable": true
   },
   "source": [
    "## Build the network\n",
    "For the neural network, you'll build each layer into a function.  Most of the code you've seen has been outside of functions. To test your code more thoroughly, we require that you put each layer in a function.  This allows us to give you better feedback and test for simple mistakes using our unittests before you submit your project.\n",
    "\n",
    ">**Note:** If you're finding it hard to dedicate enough time for this course each week, we've provided a small shortcut to this part of the project. In the next couple of problems, you'll have the option to use classes from the [TensorFlow Layers](https://www.tensorflow.org/api_docs/python/tf/layers) or [TensorFlow Layers (contrib)](https://www.tensorflow.org/api_guides/python/contrib.layers) packages to build each layer, except the layers you build in the \"Convolutional and Max Pooling Layer\" section.  TF Layers is similar to Keras's and TFLearn's abstraction to layers, so it's easy to pickup.\n",
    "\n",
    ">However, if you would like to get the most out of this course, try to solve all the problems _without_ using anything from the TF Layers packages. You **can** still use classes from other packages that happen to have the same name as ones you find in TF Layers! For example, instead of using the TF Layers version of the `conv2d` class, [tf.layers.conv2d](https://www.tensorflow.org/api_docs/python/tf/layers/conv2d), you would want to use the TF Neural Network version of `conv2d`, [tf.nn.conv2d](https://www.tensorflow.org/api_docs/python/tf/nn/conv2d). \n",
    "\n",
    "Let's begin!\n",
    "\n",
    "### Input\n",
    "The neural network needs to read the image data, one-hot encoded labels, and dropout keep probability. Implement the following functions\n",
    "* Implement `neural_net_image_input`\n",
    " * Return a [TF Placeholder](https://www.tensorflow.org/api_docs/python/tf/placeholder)\n",
    " * Set the shape using `image_shape` with batch size set to `None`.\n",
    " * Name the TensorFlow placeholder \"x\" using the TensorFlow `name` parameter in the [TF Placeholder](https://www.tensorflow.org/api_docs/python/tf/placeholder).\n",
    "* Implement `neural_net_label_input`\n",
    " * Return a [TF Placeholder](https://www.tensorflow.org/api_docs/python/tf/placeholder)\n",
    " * Set the shape using `n_classes` with batch size set to `None`.\n",
    " * Name the TensorFlow placeholder \"y\" using the TensorFlow `name` parameter in the [TF Placeholder](https://www.tensorflow.org/api_docs/python/tf/placeholder).\n",
    "* Implement `neural_net_keep_prob_input`\n",
    " * Return a [TF Placeholder](https://www.tensorflow.org/api_docs/python/tf/placeholder) for dropout keep probability.\n",
    " * Name the TensorFlow placeholder \"keep_prob\" using the TensorFlow `name` parameter in the [TF Placeholder](https://www.tensorflow.org/api_docs/python/tf/placeholder).\n",
    "\n",
    "These names will be used at the end of the project to load your saved model.\n",
    "\n",
    "Note: `None` for shapes in TensorFlow allow for a dynamic size."
   ]
  },
  {
   "cell_type": "code",
   "execution_count": 9,
   "metadata": {
    "collapsed": false,
    "deletable": true,
    "editable": true
   },
   "outputs": [
    {
     "name": "stdout",
     "output_type": "stream",
     "text": [
      "Image Input Tests Passed.\n",
      "Label Input Tests Passed.\n",
      "Keep Prob Tests Passed.\n"
     ]
    }
   ],
   "source": [
    "import tensorflow as tf\n",
    "\n",
    "def neural_net_image_input(image_shape):\n",
    "    \"\"\"\n",
    "    Return a Tensor for a bach of image input\n",
    "    : image_shape: Shape of the images\n",
    "    : return: Tensor for image input.\n",
    "    \"\"\"\n",
    "    x = tf.placeholder(tf.float32, [None, image_shape[0], image_shape[1], image_shape[2]], name=\"x\")\n",
    "    return x\n",
    "\n",
    "\n",
    "def neural_net_label_input(n_classes):\n",
    "    \"\"\"\n",
    "    Return a Tensor for a batch of label input\n",
    "    : n_classes: Number of classes\n",
    "    : return: Tensor for label input.\n",
    "    \"\"\"\n",
    "    y = tf.placeholder(tf.float32, [None, n_classes], name=\"y\")\n",
    "    return y\n",
    "\n",
    "def neural_net_keep_prob_input():\n",
    "    \"\"\"\n",
    "    Return a Tensor for keep probability\n",
    "    : return: Tensor for keep probability.\n",
    "    \"\"\"\n",
    "    keep_prob = tf.placeholder(tf.float32, name=\"keep_prob\")\n",
    "    return keep_prob\n",
    "\n",
    "\n",
    "\"\"\"\n",
    "DON'T MODIFY ANYTHING IN THIS CELL THAT IS BELOW THIS LINE\n",
    "\"\"\"\n",
    "tf.reset_default_graph()\n",
    "tests.test_nn_image_inputs(neural_net_image_input)\n",
    "tests.test_nn_label_inputs(neural_net_label_input)\n",
    "tests.test_nn_keep_prob_inputs(neural_net_keep_prob_input)"
   ]
  },
  {
   "cell_type": "markdown",
   "metadata": {
    "deletable": true,
    "editable": true
   },
   "source": [
    "### Convolution and Max Pooling Layer\n",
    "Convolution layers have a lot of success with images. For this code cell, you should implement the function `conv2d_maxpool` to apply convolution then max pooling:\n",
    "* Create the weight and bias using `conv_ksize`, `conv_num_outputs` and the shape of `x_tensor`.\n",
    "* Apply a convolution to `x_tensor` using weight and `conv_strides`.\n",
    " * We recommend you use same padding, but you're welcome to use any padding.\n",
    "* Add bias\n",
    "* Add a nonlinear activation to the convolution.\n",
    "* Apply Max Pooling using `pool_ksize` and `pool_strides`.\n",
    " * We recommend you use same padding, but you're welcome to use any padding.\n",
    "\n",
    "**Note:** You **can't** use [TensorFlow Layers](https://www.tensorflow.org/api_docs/python/tf/layers) or [TensorFlow Layers (contrib)](https://www.tensorflow.org/api_guides/python/contrib.layers) for **this** layer, but you can still use TensorFlow's [Neural Network](https://www.tensorflow.org/api_docs/python/tf/nn) package. You may still use the shortcut option for all the **other** layers."
   ]
  },
  {
   "cell_type": "code",
   "execution_count": 10,
   "metadata": {
    "collapsed": false,
    "deletable": true,
    "editable": true
   },
   "outputs": [
    {
     "name": "stdout",
     "output_type": "stream",
     "text": [
      "Tests Passed\n"
     ]
    }
   ],
   "source": [
    "import random\n",
    "\n",
    "def conv2d_maxpool(x_tensor, conv_num_outputs, conv_ksize, conv_strides, pool_ksize, pool_strides, padding='VALID', scope=\"conv2d\"):\n",
    "    \"\"\"\n",
    "    Apply convolution then max pooling to x_tensor\n",
    "    :param x_tensor: TensorFlow Tensor\n",
    "    :param conv_num_outputs: Number of outputs for the convolutional layer\n",
    "    :param conv_ksize: kernal size 2-D Tuple for the convolutional layer\n",
    "    :param conv_strides: Stride 2-D Tuple for convolution\n",
    "    :param pool_ksize: kernal size 2-D Tuple for pool\n",
    "    :param pool_strides: Stride 2-D Tuple for pool\n",
    "    : return: A tensor that represents convolution and max pooling of x_tensor\n",
    "    \"\"\"\n",
    "    conv_strides = (1,)+conv_strides+(1,)\n",
    "    pool_ksize = (1,)+pool_ksize+(1,)\n",
    "    pool_strides = (1,)+pool_strides+(1,)\n",
    "    \n",
    "    with tf.variable_scope(scope):\n",
    "        \n",
    "        # variance_scaling_initializer -> http://arxiv.org/pdf/1502.01852v1.pdf\n",
    "        w_shape = [conv_ksize[0], conv_ksize[1], x_tensor.get_shape().as_list()[-1], conv_num_outputs]\n",
    "        weight = tf.get_variable(\"weight\", shape=w_shape, initializer=tf.contrib.layers.variance_scaling_initializer())\n",
    "        bias = tf.Variable(tf.zeros(conv_num_outputs))\n",
    "\n",
    "        conv_layer = tf.nn.conv2d(x_tensor, weight, strides=conv_strides, padding=padding)\n",
    "        # Add bias\n",
    "        conv_layer = tf.nn.bias_add(conv_layer, bias)\n",
    "        \n",
    "        # Using PRELU from here http://tensorlayer.readthedocs.io/en/latest/_modules/tensorlayer/layers.html#PReluLayer\n",
    "        w_shape = int(conv_layer.get_shape()[-1])\n",
    "        alphas = tf.get_variable(name='alphas', shape=w_shape, initializer=tf.constant_initializer(value=0.0), **{} )\n",
    "        conv_layer = tf.nn.relu(conv_layer) + tf.multiply(alphas, (conv_layer - tf.abs(conv_layer))) * 0.5\n",
    "\n",
    "        return tf.nn.max_pool(conv_layer, pool_ksize, strides=pool_strides, padding=padding)\n",
    "\n",
    "\n",
    "\"\"\"\n",
    "DON'T MODIFY ANYTHING IN THIS CELL THAT IS BELOW THIS LINE\n",
    "\"\"\"\n",
    "tests.test_con_pool(conv2d_maxpool)"
   ]
  },
  {
   "cell_type": "markdown",
   "metadata": {
    "deletable": true,
    "editable": true
   },
   "source": [
    "### Flatten Layer\n",
    "Implement the `flatten` function to change the dimension of `x_tensor` from a 4-D tensor to a 2-D tensor.  The output should be the shape (*Batch Size*, *Flattened Image Size*). Shortcut option: you can use classes from the [TensorFlow Layers](https://www.tensorflow.org/api_docs/python/tf/layers) or [TensorFlow Layers (contrib)](https://www.tensorflow.org/api_guides/python/contrib.layers) packages for this layer. For more of a challenge, only use other TensorFlow packages."
   ]
  },
  {
   "cell_type": "code",
   "execution_count": 11,
   "metadata": {
    "collapsed": false,
    "deletable": true,
    "editable": true
   },
   "outputs": [
    {
     "name": "stdout",
     "output_type": "stream",
     "text": [
      "Tests Passed\n"
     ]
    }
   ],
   "source": [
    "def flatten(x_tensor):\n",
    "    \"\"\"\n",
    "    Flatten x_tensor to (Batch Size, Flattened Image Size)\n",
    "    : x_tensor: A tensor of size (Batch Size, ...), where ... are the image dimensions.\n",
    "    : return: A tensor of size (Batch Size, Flattened Image Size).\n",
    "    \"\"\"\n",
    "    shape = x_tensor.get_shape().as_list()        # a list: [None, 10, 30, 6]\n",
    "    dim = np.prod(shape[1:])            # dim = prod(10,30,6) = 10*30*6\n",
    "    x_tensor = tf.reshape(x_tensor, [-1, dim])           # -1 means \"all\"\n",
    "    return x_tensor\n",
    "\n",
    "\n",
    "\"\"\"\n",
    "DON'T MODIFY ANYTHING IN THIS CELL THAT IS BELOW THIS LINE\n",
    "\"\"\"\n",
    "tests.test_flatten(flatten)"
   ]
  },
  {
   "cell_type": "markdown",
   "metadata": {
    "deletable": true,
    "editable": true
   },
   "source": [
    "### Fully-Connected Layer\n",
    "Implement the `fully_conn` function to apply a fully connected layer to `x_tensor` with the shape (*Batch Size*, *num_outputs*). Shortcut option: you can use classes from the [TensorFlow Layers](https://www.tensorflow.org/api_docs/python/tf/layers) or [TensorFlow Layers (contrib)](https://www.tensorflow.org/api_guides/python/contrib.layers) packages for this layer. For more of a challenge, only use other TensorFlow packages."
   ]
  },
  {
   "cell_type": "code",
   "execution_count": 12,
   "metadata": {
    "collapsed": false,
    "deletable": true,
    "editable": true
   },
   "outputs": [
    {
     "name": "stdout",
     "output_type": "stream",
     "text": [
      "Tests Passed\n"
     ]
    }
   ],
   "source": [
    "def fully_conn(x_tensor, num_outputs, scope=\"fc\"):\n",
    "    \"\"\"\n",
    "    Apply a fully connected layer to x_tensor using weight and bias\n",
    "    : x_tensor: A 2-D tensor where the first dimension is batch size.\n",
    "    : num_outputs: The number of output that the new tensor should be.\n",
    "    : return: A 2-D tensor where the second dimension is num_outputs.\n",
    "    \"\"\"\n",
    "    with tf.variable_scope(scope):\n",
    "        \n",
    "        # variance_scaling_initializer -> http://arxiv.org/pdf/1502.01852v1.pdf\n",
    "        w_shape = [x_tensor.get_shape().as_list()[1], num_outputs]\n",
    "        w = tf.get_variable(\"w\", shape=w_shape, initializer=tf.contrib.layers.variance_scaling_initializer())\n",
    "        b = tf.Variable(tf.zeros([num_outputs]))\n",
    "\n",
    "        fc = tf.add(tf.matmul(x_tensor, w), b)\n",
    "        \n",
    "        # Using PRELU from here http://tensorlayer.readthedocs.io/en/latest/_modules/tensorlayer/layers.html#PReluLayer\n",
    "        w_shape = int(fc.get_shape()[-1])\n",
    "        alphas = tf.get_variable(name='alphas', shape=w_shape, initializer=tf.constant_initializer(value=0.0), **{} )\n",
    "        fc = tf.nn.relu(fc) + tf.multiply(alphas, (fc - tf.abs(fc))) * 0.5\n",
    "        return fc\n",
    "\n",
    "\n",
    "\"\"\"\n",
    "DON'T MODIFY ANYTHING IN THIS CELL THAT IS BELOW THIS LINE\n",
    "\"\"\"\n",
    "tests.test_fully_conn(fully_conn)"
   ]
  },
  {
   "cell_type": "markdown",
   "metadata": {
    "deletable": true,
    "editable": true
   },
   "source": [
    "### Output Layer\n",
    "Implement the `output` function to apply a fully connected layer to `x_tensor` with the shape (*Batch Size*, *num_outputs*). Shortcut option: you can use classes from the [TensorFlow Layers](https://www.tensorflow.org/api_docs/python/tf/layers) or [TensorFlow Layers (contrib)](https://www.tensorflow.org/api_guides/python/contrib.layers) packages for this layer. For more of a challenge, only use other TensorFlow packages.\n",
    "\n",
    "**Note:** Activation, softmax, or cross entropy should **not** be applied to this."
   ]
  },
  {
   "cell_type": "code",
   "execution_count": 13,
   "metadata": {
    "collapsed": false,
    "deletable": true,
    "editable": true
   },
   "outputs": [
    {
     "name": "stdout",
     "output_type": "stream",
     "text": [
      "Tests Passed\n"
     ]
    }
   ],
   "source": [
    "def output(x_tensor, num_outputs, scope=\"output\"):\n",
    "    \"\"\"\n",
    "    Apply a output layer to x_tensor using weight and bias\n",
    "    : x_tensor: A 2-D tensor where the first dimension is batch size.\n",
    "    : num_outputs: The number of output that the new tensor should be.\n",
    "    : return: A 2-D tensor where the second dimension is num_outputs.\n",
    "    \"\"\"\n",
    "    with tf.variable_scope(scope):\n",
    "        shape = [x_tensor.get_shape().as_list()[1], num_outputs]\n",
    "        w = tf.get_variable(\"w\", shape=shape, initializer=tf.contrib.layers.variance_scaling_initializer())\n",
    "        b = tf.Variable(tf.zeros([num_outputs]))\n",
    "        return tf.add(tf.matmul(x_tensor, w), b)\n",
    "\n",
    "\n",
    "\"\"\"\n",
    "DON'T MODIFY ANYTHING IN THIS CELL THAT IS BELOW THIS LINE\n",
    "\"\"\"\n",
    "tests.test_output(output)"
   ]
  },
  {
   "cell_type": "markdown",
   "metadata": {
    "deletable": true,
    "editable": true
   },
   "source": [
    "### Create Convolutional Model\n",
    "Implement the function `conv_net` to create a convolutional neural network model. The function takes in a batch of images, `x`, and outputs logits.  Use the layers you created above to create this model:\n",
    "\n",
    "* Apply 1, 2, or 3 Convolution and Max Pool layers\n",
    "* Apply a Flatten Layer\n",
    "* Apply 1, 2, or 3 Fully Connected Layers\n",
    "* Apply an Output Layer\n",
    "* Return the output\n",
    "* Apply [TensorFlow's Dropout](https://www.tensorflow.org/api_docs/python/tf/nn/dropout) to one or more layers in the model using `keep_prob`. "
   ]
  },
  {
   "cell_type": "code",
   "execution_count": 39,
   "metadata": {
    "collapsed": false,
    "deletable": true,
    "editable": true
   },
   "outputs": [
    {
     "name": "stdout",
     "output_type": "stream",
     "text": [
      "Neural Network Built!\n"
     ]
    }
   ],
   "source": [
    "def conv_net(x, keep_prob):\n",
    "    \"\"\"\n",
    "    Create a convolutional neural network model\n",
    "    : x: Placeholder tensor that holds image data.\n",
    "    : keep_prob: Placeholder tensor that hold dropout keep probability.\n",
    "    : return: Tensor that represents logits\n",
    "    \"\"\"\n",
    "    with tf.variable_scope(str(random.randint(0,1000))):\n",
    "        # TODO: Apply 1, 2, or 3 Convolution and Max Pool layers\n",
    "        #    Play around with different number of outputs, kernel size and stride\n",
    "        # Function Definition from Above:\n",
    "        #    conv2d_maxpool(x_tensor, conv_num_outputs, conv_ksize, conv_strides, pool_ksize, pool_strides)\n",
    "        cnn = conv2d_maxpool(x, 128, (3, 3), (2, 2), (1, 1), (1, 1), scope=\"conv2d_1\")\n",
    "        cnn = tf.nn.dropout(cnn, keep_prob=keep_prob)\n",
    "        cnn = conv2d_maxpool(cnn, 128, (3, 3), (2, 2), (1, 1), (1, 1), scope=\"conv2d_2\")\n",
    "        cnn = tf.nn.dropout(cnn, keep_prob=keep_prob)\n",
    "        cnn = conv2d_maxpool(cnn, 256, (3, 3), (2, 2), (1, 1), (1, 1), scope=\"conv2d_3\")\n",
    "        cnn = tf.nn.dropout(cnn, keep_prob=keep_prob)\n",
    "        cnn = conv2d_maxpool(cnn, 512, (1, 1), (1, 1), (1, 1), (1, 1), scope=\"conv2d_4\")\n",
    "        cnn = tf.nn.dropout(cnn, keep_prob=keep_prob)\n",
    "\n",
    "        # TODO: Apply a Flatten Layer\n",
    "        # Function Definition from Above:\n",
    "        #   flatten(x_tensor)\n",
    "        cnn = flatten(cnn)\n",
    "\n",
    "        # TODO: Apply 1, 2, or 3 Fully Connected Layers\n",
    "        #    Play around with different number of outputs\n",
    "        # Function Definition from Above:\n",
    "        #   fully_conn(x_tensor, num_outputs)\n",
    "        cnn = fully_conn(cnn, 1024, scope=\"fc1\")\n",
    "        cnn = tf.nn.dropout(cnn, keep_prob=keep_prob)\n",
    "        cnn = fully_conn(cnn, 1024, scope=\"fc2\")\n",
    "\n",
    "        # TODO: Apply an Output Layer\n",
    "        #    Set this to the number of classes\n",
    "        # Function Definition from Above:\n",
    "        #   output(x_tensor, num_outputs)\n",
    "        cnn = output(cnn, 10)\n",
    "\n",
    "        # TODO: return output\n",
    "        return cnn\n",
    "\n",
    "\n",
    "\"\"\"\n",
    "DON'T MODIFY ANYTHING IN THIS CELL THAT IS BELOW THIS LINE\n",
    "\"\"\"\n",
    "\n",
    "##############################\n",
    "## Build the Neural Network ##\n",
    "##############################\n",
    "\n",
    "# Remove previous weights, bias, inputs, etc..\n",
    "tf.reset_default_graph()\n",
    "\n",
    "# Inputs\n",
    "x = neural_net_image_input((32, 32, 3))\n",
    "y = neural_net_label_input(10)\n",
    "keep_prob = neural_net_keep_prob_input()\n",
    "\n",
    "# Model\n",
    "logits = conv_net(x, keep_prob)\n",
    "\n",
    "# Name logits Tensor, so that is can be loaded from disk after training\n",
    "logits = tf.identity(logits, name='logits')\n",
    "\n",
    "# Loss and Optimizer\n",
    "cost = tf.reduce_mean(tf.nn.softmax_cross_entropy_with_logits(logits=logits, labels=y))\n",
    "optimizer = tf.train.AdamOptimizer().minimize(cost)\n",
    "\n",
    "# Accuracy\n",
    "correct_pred = tf.equal(tf.argmax(logits, 1), tf.argmax(y, 1), name=\"correct_pred\")\n",
    "accuracy = tf.reduce_mean(tf.cast(correct_pred, tf.float32), name='accuracy')\n",
    "\n",
    "tests.test_conv_net(conv_net)"
   ]
  },
  {
   "cell_type": "markdown",
   "metadata": {
    "deletable": true,
    "editable": true
   },
   "source": [
    "## Train the Neural Network\n",
    "### Single Optimization\n",
    "Implement the function `train_neural_network` to do a single optimization.  The optimization should use `optimizer` to optimize in `session` with a `feed_dict` of the following:\n",
    "* `x` for image input\n",
    "* `y` for labels\n",
    "* `keep_prob` for keep probability for dropout\n",
    "\n",
    "This function will be called for each batch, so `tf.global_variables_initializer()` has already been called.\n",
    "\n",
    "Note: Nothing needs to be returned. This function is only optimizing the neural network."
   ]
  },
  {
   "cell_type": "code",
   "execution_count": 40,
   "metadata": {
    "collapsed": false,
    "deletable": true,
    "editable": true
   },
   "outputs": [
    {
     "name": "stdout",
     "output_type": "stream",
     "text": [
      "Tests Passed\n"
     ]
    }
   ],
   "source": [
    "def train_neural_network(session, optimizer, keep_probability, feature_batch, label_batch):\n",
    "    \"\"\"\n",
    "    Optimize the session on a batch of images and labels\n",
    "    : session: Current TensorFlow session\n",
    "    : optimizer: TensorFlow optimizer function\n",
    "    : keep_probability: keep probability\n",
    "    : feature_batch: Batch of Numpy image data\n",
    "    : label_batch: Batch of Numpy label data\n",
    "    \"\"\"\n",
    "    session.run(optimizer, feed_dict={keep_prob: keep_probability, x: feature_batch, y: label_batch})\n",
    "\n",
    "\n",
    "\"\"\"\n",
    "DON'T MODIFY ANYTHING IN THIS CELL THAT IS BELOW THIS LINE\n",
    "\"\"\"\n",
    "tests.test_train_nn(train_neural_network)"
   ]
  },
  {
   "cell_type": "markdown",
   "metadata": {
    "deletable": true,
    "editable": true
   },
   "source": [
    "### Show Stats\n",
    "Implement the function `print_stats` to print loss and validation accuracy.  Use the global variables `valid_features` and `valid_labels` to calculate validation accuracy.  Use a keep probability of `1.0` to calculate the loss and validation accuracy."
   ]
  },
  {
   "cell_type": "code",
   "execution_count": 41,
   "metadata": {
    "collapsed": false,
    "deletable": true,
    "editable": true
   },
   "outputs": [],
   "source": [
    "def print_stats(session, feature_batch, label_batch, cost, accuracy):\n",
    "    \"\"\"\n",
    "    Print information about loss and validation accuracy\n",
    "    : session: Current TensorFlow session\n",
    "    : feature_batch: Batch of Numpy image data\n",
    "    : label_batch: Batch of Numpy label data\n",
    "    : cost: TensorFlow cost function\n",
    "    : accuracy: TensorFlow accuracy function\n",
    "    \"\"\"\n",
    "    loss = sess.run(cost, feed_dict={\n",
    "        x: feature_batch,\n",
    "        y: label_batch,\n",
    "        keep_prob: 1.})\n",
    "    valid_acc = sess.run(accuracy, feed_dict={\n",
    "        x: valid_features,\n",
    "        y: valid_labels,\n",
    "        keep_prob: 1.})\n",
    "\n",
    "    print('Loss: {:>10.4f} Validation Accuracy: {:.6f}'.format(\n",
    "        loss,\n",
    "        valid_acc))"
   ]
  },
  {
   "cell_type": "markdown",
   "metadata": {
    "deletable": true,
    "editable": true
   },
   "source": [
    "### Hyperparameters\n",
    "Tune the following parameters:\n",
    "* Set `epochs` to the number of iterations until the network stops learning or start overfitting\n",
    "* Set `batch_size` to the highest number that your machine has memory for.  Most people set them to common sizes of memory:\n",
    " * 64\n",
    " * 128\n",
    " * 256\n",
    " * ...\n",
    "* Set `keep_probability` to the probability of keeping a node using dropout"
   ]
  },
  {
   "cell_type": "code",
   "execution_count": 42,
   "metadata": {
    "collapsed": true,
    "deletable": true,
    "editable": true
   },
   "outputs": [],
   "source": [
    "# TODO: Tune Parameters\n",
    "epochs = 50\n",
    "batch_size = 512\n",
    "keep_probability = 0.6"
   ]
  },
  {
   "cell_type": "markdown",
   "metadata": {
    "deletable": true,
    "editable": true
   },
   "source": [
    "### Fully Train the Model\n",
    "Now that you got a good accuracy with a single CIFAR-10 batch, try it with all five batches."
   ]
  },
  {
   "cell_type": "code",
   "execution_count": 43,
   "metadata": {
    "collapsed": false,
    "deletable": true,
    "editable": true
   },
   "outputs": [
    {
     "name": "stdout",
     "output_type": "stream",
     "text": [
      "Training...\n",
      "Epoch  1, CIFAR-10 Batch 1:  Loss:     2.3018 Validation Accuracy: 0.117400\n",
      "Epoch  1, CIFAR-10 Batch 2:  Loss:     2.3014 Validation Accuracy: 0.130200\n",
      "Epoch  1, CIFAR-10 Batch 3:  Loss:     2.2953 Validation Accuracy: 0.134200\n",
      "Epoch  1, CIFAR-10 Batch 4:  Loss:     2.2695 Validation Accuracy: 0.154000\n",
      "Epoch  1, CIFAR-10 Batch 5:  Loss:     2.2117 Validation Accuracy: 0.165200\n",
      "Epoch  2, CIFAR-10 Batch 1:  Loss:     2.1855 Validation Accuracy: 0.224200\n",
      "Epoch  2, CIFAR-10 Batch 2:  Loss:     2.1418 Validation Accuracy: 0.216400\n",
      "Epoch  2, CIFAR-10 Batch 3:  Loss:     2.0367 Validation Accuracy: 0.241000\n",
      "Epoch  2, CIFAR-10 Batch 4:  Loss:     1.9627 Validation Accuracy: 0.272400\n",
      "Epoch  2, CIFAR-10 Batch 5:  Loss:     1.9617 Validation Accuracy: 0.283000\n",
      "Epoch  3, CIFAR-10 Batch 1:  Loss:     2.0649 Validation Accuracy: 0.301000\n",
      "Epoch  3, CIFAR-10 Batch 2:  Loss:     1.8669 Validation Accuracy: 0.317000\n",
      "Epoch  3, CIFAR-10 Batch 3:  Loss:     1.8004 Validation Accuracy: 0.310400\n",
      "Epoch  3, CIFAR-10 Batch 4:  Loss:     1.7320 Validation Accuracy: 0.349400\n",
      "Epoch  3, CIFAR-10 Batch 5:  Loss:     1.8318 Validation Accuracy: 0.333600\n",
      "Epoch  4, CIFAR-10 Batch 1:  Loss:     1.8835 Validation Accuracy: 0.359800\n",
      "Epoch  4, CIFAR-10 Batch 2:  Loss:     1.7532 Validation Accuracy: 0.374000\n",
      "Epoch  4, CIFAR-10 Batch 3:  Loss:     1.5622 Validation Accuracy: 0.383200\n",
      "Epoch  4, CIFAR-10 Batch 4:  Loss:     1.5646 Validation Accuracy: 0.402000\n",
      "Epoch  4, CIFAR-10 Batch 5:  Loss:     1.6634 Validation Accuracy: 0.378800\n",
      "Epoch  5, CIFAR-10 Batch 1:  Loss:     1.6870 Validation Accuracy: 0.416600\n",
      "Epoch  5, CIFAR-10 Batch 2:  Loss:     1.6735 Validation Accuracy: 0.395000\n",
      "Epoch  5, CIFAR-10 Batch 3:  Loss:     1.5209 Validation Accuracy: 0.407000\n",
      "Epoch  5, CIFAR-10 Batch 4:  Loss:     1.4424 Validation Accuracy: 0.444400\n",
      "Epoch  5, CIFAR-10 Batch 5:  Loss:     1.4856 Validation Accuracy: 0.432800\n",
      "Epoch  6, CIFAR-10 Batch 1:  Loss:     1.5983 Validation Accuracy: 0.444800\n",
      "Epoch  6, CIFAR-10 Batch 2:  Loss:     1.5491 Validation Accuracy: 0.447000\n",
      "Epoch  6, CIFAR-10 Batch 3:  Loss:     1.3641 Validation Accuracy: 0.451400\n",
      "Epoch  6, CIFAR-10 Batch 4:  Loss:     1.3627 Validation Accuracy: 0.462600\n",
      "Epoch  6, CIFAR-10 Batch 5:  Loss:     1.4233 Validation Accuracy: 0.452800\n",
      "Epoch  7, CIFAR-10 Batch 1:  Loss:     1.5146 Validation Accuracy: 0.469400\n",
      "Epoch  7, CIFAR-10 Batch 2:  Loss:     1.5287 Validation Accuracy: 0.439000\n",
      "Epoch  7, CIFAR-10 Batch 3:  Loss:     1.2581 Validation Accuracy: 0.479600\n",
      "Epoch  7, CIFAR-10 Batch 4:  Loss:     1.2796 Validation Accuracy: 0.489600\n",
      "Epoch  7, CIFAR-10 Batch 5:  Loss:     1.3313 Validation Accuracy: 0.481400\n",
      "Epoch  8, CIFAR-10 Batch 1:  Loss:     1.4433 Validation Accuracy: 0.482000\n",
      "Epoch  8, CIFAR-10 Batch 2:  Loss:     1.4291 Validation Accuracy: 0.485000\n",
      "Epoch  8, CIFAR-10 Batch 3:  Loss:     1.1914 Validation Accuracy: 0.492800\n",
      "Epoch  8, CIFAR-10 Batch 4:  Loss:     1.2422 Validation Accuracy: 0.503800\n",
      "Epoch  8, CIFAR-10 Batch 5:  Loss:     1.2605 Validation Accuracy: 0.505000\n",
      "Epoch  9, CIFAR-10 Batch 1:  Loss:     1.3673 Validation Accuracy: 0.518600\n",
      "Epoch  9, CIFAR-10 Batch 2:  Loss:     1.3087 Validation Accuracy: 0.511000\n",
      "Epoch  9, CIFAR-10 Batch 3:  Loss:     1.1194 Validation Accuracy: 0.519800\n",
      "Epoch  9, CIFAR-10 Batch 4:  Loss:     1.1659 Validation Accuracy: 0.528800\n",
      "Epoch  9, CIFAR-10 Batch 5:  Loss:     1.2122 Validation Accuracy: 0.528400\n",
      "Epoch 10, CIFAR-10 Batch 1:  Loss:     1.2958 Validation Accuracy: 0.537600\n",
      "Epoch 10, CIFAR-10 Batch 2:  Loss:     1.3075 Validation Accuracy: 0.513000\n",
      "Epoch 10, CIFAR-10 Batch 3:  Loss:     1.0685 Validation Accuracy: 0.532600\n",
      "Epoch 10, CIFAR-10 Batch 4:  Loss:     1.0929 Validation Accuracy: 0.557200\n",
      "Epoch 10, CIFAR-10 Batch 5:  Loss:     1.1907 Validation Accuracy: 0.538400\n",
      "Epoch 11, CIFAR-10 Batch 1:  Loss:     1.2435 Validation Accuracy: 0.553600\n",
      "Epoch 11, CIFAR-10 Batch 2:  Loss:     1.2091 Validation Accuracy: 0.548600\n",
      "Epoch 11, CIFAR-10 Batch 3:  Loss:     1.0162 Validation Accuracy: 0.561600\n",
      "Epoch 11, CIFAR-10 Batch 4:  Loss:     1.0406 Validation Accuracy: 0.559800\n",
      "Epoch 11, CIFAR-10 Batch 5:  Loss:     1.0775 Validation Accuracy: 0.563400\n",
      "Epoch 12, CIFAR-10 Batch 1:  Loss:     1.2040 Validation Accuracy: 0.556200\n",
      "Epoch 12, CIFAR-10 Batch 2:  Loss:     1.1341 Validation Accuracy: 0.576800\n",
      "Epoch 12, CIFAR-10 Batch 3:  Loss:     1.0509 Validation Accuracy: 0.555600\n",
      "Epoch 12, CIFAR-10 Batch 4:  Loss:     1.0227 Validation Accuracy: 0.564200\n",
      "Epoch 12, CIFAR-10 Batch 5:  Loss:     1.0720 Validation Accuracy: 0.573600\n",
      "Epoch 13, CIFAR-10 Batch 1:  Loss:     1.1521 Validation Accuracy: 0.587400\n",
      "Epoch 13, CIFAR-10 Batch 2:  Loss:     1.0395 Validation Accuracy: 0.583000\n",
      "Epoch 13, CIFAR-10 Batch 3:  Loss:     0.9585 Validation Accuracy: 0.572200\n",
      "Epoch 13, CIFAR-10 Batch 4:  Loss:     0.9963 Validation Accuracy: 0.580600\n",
      "Epoch 13, CIFAR-10 Batch 5:  Loss:     1.0039 Validation Accuracy: 0.586600\n",
      "Epoch 14, CIFAR-10 Batch 1:  Loss:     1.0919 Validation Accuracy: 0.597200\n",
      "Epoch 14, CIFAR-10 Batch 2:  Loss:     1.0184 Validation Accuracy: 0.601800\n",
      "Epoch 14, CIFAR-10 Batch 3:  Loss:     0.9020 Validation Accuracy: 0.595400\n",
      "Epoch 14, CIFAR-10 Batch 4:  Loss:     0.8771 Validation Accuracy: 0.601600\n",
      "Epoch 14, CIFAR-10 Batch 5:  Loss:     0.9575 Validation Accuracy: 0.587600\n",
      "Epoch 15, CIFAR-10 Batch 1:  Loss:     1.0690 Validation Accuracy: 0.604000\n",
      "Epoch 15, CIFAR-10 Batch 2:  Loss:     1.0222 Validation Accuracy: 0.597800\n",
      "Epoch 15, CIFAR-10 Batch 3:  Loss:     0.8582 Validation Accuracy: 0.608800\n",
      "Epoch 15, CIFAR-10 Batch 4:  Loss:     0.8461 Validation Accuracy: 0.609000\n",
      "Epoch 15, CIFAR-10 Batch 5:  Loss:     0.8731 Validation Accuracy: 0.609800\n",
      "Epoch 16, CIFAR-10 Batch 1:  Loss:     0.9962 Validation Accuracy: 0.620600\n",
      "Epoch 16, CIFAR-10 Batch 2:  Loss:     0.9237 Validation Accuracy: 0.624800\n",
      "Epoch 16, CIFAR-10 Batch 3:  Loss:     0.7832 Validation Accuracy: 0.617000\n",
      "Epoch 16, CIFAR-10 Batch 4:  Loss:     0.7624 Validation Accuracy: 0.633000\n",
      "Epoch 16, CIFAR-10 Batch 5:  Loss:     0.8021 Validation Accuracy: 0.621200\n",
      "Epoch 17, CIFAR-10 Batch 1:  Loss:     0.9408 Validation Accuracy: 0.628800\n",
      "Epoch 17, CIFAR-10 Batch 2:  Loss:     0.8608 Validation Accuracy: 0.641600\n",
      "Epoch 17, CIFAR-10 Batch 3:  Loss:     0.7327 Validation Accuracy: 0.634800\n",
      "Epoch 17, CIFAR-10 Batch 4:  Loss:     0.6945 Validation Accuracy: 0.642200\n",
      "Epoch 17, CIFAR-10 Batch 5:  Loss:     0.7968 Validation Accuracy: 0.627000\n",
      "Epoch 18, CIFAR-10 Batch 1:  Loss:     0.8873 Validation Accuracy: 0.641400\n",
      "Epoch 18, CIFAR-10 Batch 2:  Loss:     0.8321 Validation Accuracy: 0.643000\n",
      "Epoch 18, CIFAR-10 Batch 3:  Loss:     0.7523 Validation Accuracy: 0.637000\n",
      "Epoch 18, CIFAR-10 Batch 4:  Loss:     0.7137 Validation Accuracy: 0.642200\n",
      "Epoch 18, CIFAR-10 Batch 5:  Loss:     0.7686 Validation Accuracy: 0.625200\n",
      "Epoch 19, CIFAR-10 Batch 1:  Loss:     0.8857 Validation Accuracy: 0.633200\n",
      "Epoch 19, CIFAR-10 Batch 2:  Loss:     0.7431 Validation Accuracy: 0.663200\n",
      "Epoch 19, CIFAR-10 Batch 3:  Loss:     0.6421 Validation Accuracy: 0.659600\n",
      "Epoch 19, CIFAR-10 Batch 4:  Loss:     0.6155 Validation Accuracy: 0.661800\n",
      "Epoch 19, CIFAR-10 Batch 5:  Loss:     0.6712 Validation Accuracy: 0.647600\n",
      "Epoch 20, CIFAR-10 Batch 1:  Loss:     0.8565 Validation Accuracy: 0.653200\n",
      "Epoch 20, CIFAR-10 Batch 2:  Loss:     0.7747 Validation Accuracy: 0.657000\n",
      "Epoch 20, CIFAR-10 Batch 3:  Loss:     0.6285 Validation Accuracy: 0.656400\n",
      "Epoch 20, CIFAR-10 Batch 4:  Loss:     0.5642 Validation Accuracy: 0.668000\n",
      "Epoch 20, CIFAR-10 Batch 5:  Loss:     0.6304 Validation Accuracy: 0.661800\n",
      "Epoch 21, CIFAR-10 Batch 1:  Loss:     0.7725 Validation Accuracy: 0.666000\n",
      "Epoch 21, CIFAR-10 Batch 2:  Loss:     0.7109 Validation Accuracy: 0.672400\n",
      "Epoch 21, CIFAR-10 Batch 3:  Loss:     0.5647 Validation Accuracy: 0.681200\n",
      "Epoch 21, CIFAR-10 Batch 4:  Loss:     0.5632 Validation Accuracy: 0.676400\n",
      "Epoch 21, CIFAR-10 Batch 5:  Loss:     0.6198 Validation Accuracy: 0.672800\n",
      "Epoch 22, CIFAR-10 Batch 1:  Loss:     0.6754 Validation Accuracy: 0.699000\n",
      "Epoch 22, CIFAR-10 Batch 2:  Loss:     0.6347 Validation Accuracy: 0.684600\n",
      "Epoch 22, CIFAR-10 Batch 3:  Loss:     0.5430 Validation Accuracy: 0.680600\n",
      "Epoch 22, CIFAR-10 Batch 4:  Loss:     0.5588 Validation Accuracy: 0.671400\n",
      "Epoch 22, CIFAR-10 Batch 5:  Loss:     0.5808 Validation Accuracy: 0.682800\n",
      "Epoch 23, CIFAR-10 Batch 1:  Loss:     0.6617 Validation Accuracy: 0.685800\n",
      "Epoch 23, CIFAR-10 Batch 2:  Loss:     0.5967 Validation Accuracy: 0.699600\n",
      "Epoch 23, CIFAR-10 Batch 3:  Loss:     0.5386 Validation Accuracy: 0.685600\n",
      "Epoch 23, CIFAR-10 Batch 4:  Loss:     0.5225 Validation Accuracy: 0.680800\n",
      "Epoch 23, CIFAR-10 Batch 5:  Loss:     0.5285 Validation Accuracy: 0.687400\n",
      "Epoch 24, CIFAR-10 Batch 1:  Loss:     0.6620 Validation Accuracy: 0.695000\n",
      "Epoch 24, CIFAR-10 Batch 2:  Loss:     0.6072 Validation Accuracy: 0.692000\n",
      "Epoch 24, CIFAR-10 Batch 3:  Loss:     0.5428 Validation Accuracy: 0.678000\n",
      "Epoch 24, CIFAR-10 Batch 4:  Loss:     0.4757 Validation Accuracy: 0.694600\n",
      "Epoch 24, CIFAR-10 Batch 5:  Loss:     0.5022 Validation Accuracy: 0.682200\n",
      "Epoch 25, CIFAR-10 Batch 1:  Loss:     0.6044 Validation Accuracy: 0.703800\n",
      "Epoch 25, CIFAR-10 Batch 2:  Loss:     0.5900 Validation Accuracy: 0.693000\n",
      "Epoch 25, CIFAR-10 Batch 3:  Loss:     0.5335 Validation Accuracy: 0.669200\n",
      "Epoch 25, CIFAR-10 Batch 4:  Loss:     0.4287 Validation Accuracy: 0.703000\n",
      "Epoch 25, CIFAR-10 Batch 5:  Loss:     0.4705 Validation Accuracy: 0.700400\n",
      "Epoch 26, CIFAR-10 Batch 1:  Loss:     0.5731 Validation Accuracy: 0.700600\n",
      "Epoch 26, CIFAR-10 Batch 2:  Loss:     0.5559 Validation Accuracy: 0.699800\n",
      "Epoch 26, CIFAR-10 Batch 3:  Loss:     0.4670 Validation Accuracy: 0.682000\n",
      "Epoch 26, CIFAR-10 Batch 4:  Loss:     0.3994 Validation Accuracy: 0.711400\n",
      "Epoch 26, CIFAR-10 Batch 5:  Loss:     0.4265 Validation Accuracy: 0.693400\n",
      "Epoch 27, CIFAR-10 Batch 1:  Loss:     0.5300 Validation Accuracy: 0.704000\n",
      "Epoch 27, CIFAR-10 Batch 2:  Loss:     0.4973 Validation Accuracy: 0.703400\n",
      "Epoch 27, CIFAR-10 Batch 3:  Loss:     0.4358 Validation Accuracy: 0.686600\n",
      "Epoch 27, CIFAR-10 Batch 4:  Loss:     0.3696 Validation Accuracy: 0.713200\n",
      "Epoch 27, CIFAR-10 Batch 5:  Loss:     0.3922 Validation Accuracy: 0.697800\n",
      "Epoch 28, CIFAR-10 Batch 1:  Loss:     0.5134 Validation Accuracy: 0.702600\n",
      "Epoch 28, CIFAR-10 Batch 2:  Loss:     0.5148 Validation Accuracy: 0.700200\n",
      "Epoch 28, CIFAR-10 Batch 3:  Loss:     0.4314 Validation Accuracy: 0.693800\n",
      "Epoch 28, CIFAR-10 Batch 4:  Loss:     0.3509 Validation Accuracy: 0.723000\n",
      "Epoch 28, CIFAR-10 Batch 5:  Loss:     0.4109 Validation Accuracy: 0.699800\n",
      "Epoch 29, CIFAR-10 Batch 1:  Loss:     0.4567 Validation Accuracy: 0.712400\n",
      "Epoch 29, CIFAR-10 Batch 2:  Loss:     0.4698 Validation Accuracy: 0.709800\n",
      "Epoch 29, CIFAR-10 Batch 3:  Loss:     0.3855 Validation Accuracy: 0.708000\n",
      "Epoch 29, CIFAR-10 Batch 4:  Loss:     0.3190 Validation Accuracy: 0.720000\n",
      "Epoch 29, CIFAR-10 Batch 5:  Loss:     0.3732 Validation Accuracy: 0.702800\n",
      "Epoch 30, CIFAR-10 Batch 1:  Loss:     0.4504 Validation Accuracy: 0.710400\n",
      "Epoch 30, CIFAR-10 Batch 2:  Loss:     0.4767 Validation Accuracy: 0.703000\n",
      "Epoch 30, CIFAR-10 Batch 3:  Loss:     0.3610 Validation Accuracy: 0.699800\n",
      "Epoch 30, CIFAR-10 Batch 4:  Loss:     0.3026 Validation Accuracy: 0.724800\n",
      "Epoch 30, CIFAR-10 Batch 5:  Loss:     0.3353 Validation Accuracy: 0.712600\n",
      "Epoch 31, CIFAR-10 Batch 1:  Loss:     0.4294 Validation Accuracy: 0.717600\n",
      "Epoch 31, CIFAR-10 Batch 2:  Loss:     0.3781 Validation Accuracy: 0.726800\n",
      "Epoch 31, CIFAR-10 Batch 3:  Loss:     0.2783 Validation Accuracy: 0.722800\n",
      "Epoch 31, CIFAR-10 Batch 4:  Loss:     0.2737 Validation Accuracy: 0.733000\n",
      "Epoch 31, CIFAR-10 Batch 5:  Loss:     0.3047 Validation Accuracy: 0.714600\n",
      "Epoch 32, CIFAR-10 Batch 1:  Loss:     0.3608 Validation Accuracy: 0.727400\n",
      "Epoch 32, CIFAR-10 Batch 2:  Loss:     0.3703 Validation Accuracy: 0.733000\n",
      "Epoch 32, CIFAR-10 Batch 3:  Loss:     0.2805 Validation Accuracy: 0.718600\n",
      "Epoch 32, CIFAR-10 Batch 4:  Loss:     0.2652 Validation Accuracy: 0.735000\n",
      "Epoch 32, CIFAR-10 Batch 5:  Loss:     0.2986 Validation Accuracy: 0.709600\n",
      "Epoch 33, CIFAR-10 Batch 1:  Loss:     0.3466 Validation Accuracy: 0.726200\n",
      "Epoch 33, CIFAR-10 Batch 2:  Loss:     0.3473 Validation Accuracy: 0.730800\n",
      "Epoch 33, CIFAR-10 Batch 3:  Loss:     0.2540 Validation Accuracy: 0.732200\n",
      "Epoch 33, CIFAR-10 Batch 4:  Loss:     0.2641 Validation Accuracy: 0.733200\n",
      "Epoch 33, CIFAR-10 Batch 5:  Loss:     0.2673 Validation Accuracy: 0.720600\n",
      "Epoch 34, CIFAR-10 Batch 1:  Loss:     0.3462 Validation Accuracy: 0.732800\n",
      "Epoch 34, CIFAR-10 Batch 2:  Loss:     0.3264 Validation Accuracy: 0.729600\n",
      "Epoch 34, CIFAR-10 Batch 3:  Loss:     0.2463 Validation Accuracy: 0.733000\n",
      "Epoch 34, CIFAR-10 Batch 4:  Loss:     0.2409 Validation Accuracy: 0.739800\n",
      "Epoch 34, CIFAR-10 Batch 5:  Loss:     0.2509 Validation Accuracy: 0.729200\n",
      "Epoch 35, CIFAR-10 Batch 1:  Loss:     0.2784 Validation Accuracy: 0.730400\n",
      "Epoch 35, CIFAR-10 Batch 2:  Loss:     0.2837 Validation Accuracy: 0.733400\n",
      "Epoch 35, CIFAR-10 Batch 3:  Loss:     0.2641 Validation Accuracy: 0.721800\n",
      "Epoch 35, CIFAR-10 Batch 4:  Loss:     0.2134 Validation Accuracy: 0.737400\n",
      "Epoch 35, CIFAR-10 Batch 5:  Loss:     0.2285 Validation Accuracy: 0.724400\n",
      "Epoch 36, CIFAR-10 Batch 1:  Loss:     0.2737 Validation Accuracy: 0.731200\n",
      "Epoch 36, CIFAR-10 Batch 2:  Loss:     0.2766 Validation Accuracy: 0.735800\n",
      "Epoch 36, CIFAR-10 Batch 3:  Loss:     0.1984 Validation Accuracy: 0.742600\n",
      "Epoch 36, CIFAR-10 Batch 4:  Loss:     0.1959 Validation Accuracy: 0.747600\n",
      "Epoch 36, CIFAR-10 Batch 5:  Loss:     0.2293 Validation Accuracy: 0.725000\n",
      "Epoch 37, CIFAR-10 Batch 1:  Loss:     0.2590 Validation Accuracy: 0.736400\n",
      "Epoch 37, CIFAR-10 Batch 2:  Loss:     0.2585 Validation Accuracy: 0.747600\n",
      "Epoch 37, CIFAR-10 Batch 3:  Loss:     0.2062 Validation Accuracy: 0.740800\n",
      "Epoch 37, CIFAR-10 Batch 4:  Loss:     0.1873 Validation Accuracy: 0.750400\n",
      "Epoch 37, CIFAR-10 Batch 5:  Loss:     0.2013 Validation Accuracy: 0.739000\n",
      "Epoch 38, CIFAR-10 Batch 1:  Loss:     0.2333 Validation Accuracy: 0.740800\n",
      "Epoch 38, CIFAR-10 Batch 2:  Loss:     0.2572 Validation Accuracy: 0.738200\n",
      "Epoch 38, CIFAR-10 Batch 3:  Loss:     0.1951 Validation Accuracy: 0.731000\n",
      "Epoch 38, CIFAR-10 Batch 4:  Loss:     0.1864 Validation Accuracy: 0.744200\n",
      "Epoch 38, CIFAR-10 Batch 5:  Loss:     0.1820 Validation Accuracy: 0.736400\n",
      "Epoch 39, CIFAR-10 Batch 1:  Loss:     0.2176 Validation Accuracy: 0.742000\n",
      "Epoch 39, CIFAR-10 Batch 2:  Loss:     0.2274 Validation Accuracy: 0.730400\n",
      "Epoch 39, CIFAR-10 Batch 3:  Loss:     0.1810 Validation Accuracy: 0.740200\n",
      "Epoch 39, CIFAR-10 Batch 4:  Loss:     0.1778 Validation Accuracy: 0.750200\n",
      "Epoch 39, CIFAR-10 Batch 5:  Loss:     0.1879 Validation Accuracy: 0.734000\n",
      "Epoch 40, CIFAR-10 Batch 1:  Loss:     0.1859 Validation Accuracy: 0.750800\n",
      "Epoch 40, CIFAR-10 Batch 2:  Loss:     0.2174 Validation Accuracy: 0.743800\n",
      "Epoch 40, CIFAR-10 Batch 3:  Loss:     0.1527 Validation Accuracy: 0.750000\n",
      "Epoch 40, CIFAR-10 Batch 4:  Loss:     0.1539 Validation Accuracy: 0.751600\n",
      "Epoch 40, CIFAR-10 Batch 5:  Loss:     0.1496 Validation Accuracy: 0.748600\n",
      "Epoch 41, CIFAR-10 Batch 1:  Loss:     0.1920 Validation Accuracy: 0.748600\n",
      "Epoch 41, CIFAR-10 Batch 2:  Loss:     0.2325 Validation Accuracy: 0.740200\n",
      "Epoch 41, CIFAR-10 Batch 3:  Loss:     0.1519 Validation Accuracy: 0.739200\n",
      "Epoch 41, CIFAR-10 Batch 4:  Loss:     0.1562 Validation Accuracy: 0.747400\n",
      "Epoch 41, CIFAR-10 Batch 5:  Loss:     0.1648 Validation Accuracy: 0.739200\n",
      "Epoch 42, CIFAR-10 Batch 1:  Loss:     0.1692 Validation Accuracy: 0.750800\n",
      "Epoch 42, CIFAR-10 Batch 2:  Loss:     0.1987 Validation Accuracy: 0.742200\n",
      "Epoch 42, CIFAR-10 Batch 3:  Loss:     0.1328 Validation Accuracy: 0.748800\n",
      "Epoch 42, CIFAR-10 Batch 4:  Loss:     0.1546 Validation Accuracy: 0.751800\n",
      "Epoch 42, CIFAR-10 Batch 5:  Loss:     0.1367 Validation Accuracy: 0.743600\n",
      "Epoch 43, CIFAR-10 Batch 1:  Loss:     0.1522 Validation Accuracy: 0.755600\n",
      "Epoch 43, CIFAR-10 Batch 2:  Loss:     0.1811 Validation Accuracy: 0.750800\n",
      "Epoch 43, CIFAR-10 Batch 3:  Loss:     0.1357 Validation Accuracy: 0.754600\n",
      "Epoch 43, CIFAR-10 Batch 4:  Loss:     0.1341 Validation Accuracy: 0.747000\n",
      "Epoch 43, CIFAR-10 Batch 5:  Loss:     0.1509 Validation Accuracy: 0.739400\n",
      "Epoch 44, CIFAR-10 Batch 1:  Loss:     0.1405 Validation Accuracy: 0.751400\n",
      "Epoch 44, CIFAR-10 Batch 2:  Loss:     0.1820 Validation Accuracy: 0.741800\n",
      "Epoch 44, CIFAR-10 Batch 3:  Loss:     0.1428 Validation Accuracy: 0.743200\n",
      "Epoch 44, CIFAR-10 Batch 4:  Loss:     0.1329 Validation Accuracy: 0.756200\n",
      "Epoch 44, CIFAR-10 Batch 5:  Loss:     0.1396 Validation Accuracy: 0.738800\n",
      "Epoch 45, CIFAR-10 Batch 1:  Loss:     0.1595 Validation Accuracy: 0.745800\n",
      "Epoch 45, CIFAR-10 Batch 2:  Loss:     0.1461 Validation Accuracy: 0.749800\n",
      "Epoch 45, CIFAR-10 Batch 3:  Loss:     0.1247 Validation Accuracy: 0.748800\n",
      "Epoch 45, CIFAR-10 Batch 4:  Loss:     0.1292 Validation Accuracy: 0.749800\n",
      "Epoch 45, CIFAR-10 Batch 5:  Loss:     0.1232 Validation Accuracy: 0.745200\n",
      "Epoch 46, CIFAR-10 Batch 1:  Loss:     0.1313 Validation Accuracy: 0.747000\n",
      "Epoch 46, CIFAR-10 Batch 2:  Loss:     0.1486 Validation Accuracy: 0.745800\n",
      "Epoch 46, CIFAR-10 Batch 3:  Loss:     0.1034 Validation Accuracy: 0.745800\n",
      "Epoch 46, CIFAR-10 Batch 4:  Loss:     0.0997 Validation Accuracy: 0.763200\n",
      "Epoch 46, CIFAR-10 Batch 5:  Loss:     0.1203 Validation Accuracy: 0.748400\n",
      "Epoch 47, CIFAR-10 Batch 1:  Loss:     0.1368 Validation Accuracy: 0.751800\n",
      "Epoch 47, CIFAR-10 Batch 2:  Loss:     0.1226 Validation Accuracy: 0.756800\n",
      "Epoch 47, CIFAR-10 Batch 3:  Loss:     0.1039 Validation Accuracy: 0.748800\n",
      "Epoch 47, CIFAR-10 Batch 4:  Loss:     0.1199 Validation Accuracy: 0.747000\n",
      "Epoch 47, CIFAR-10 Batch 5:  Loss:     0.0907 Validation Accuracy: 0.748400\n",
      "Epoch 48, CIFAR-10 Batch 1:  Loss:     0.1339 Validation Accuracy: 0.757000\n",
      "Epoch 48, CIFAR-10 Batch 2:  Loss:     0.1050 Validation Accuracy: 0.755000\n",
      "Epoch 48, CIFAR-10 Batch 3:  Loss:     0.0965 Validation Accuracy: 0.735200\n",
      "Epoch 48, CIFAR-10 Batch 4:  Loss:     0.1002 Validation Accuracy: 0.751200\n",
      "Epoch 48, CIFAR-10 Batch 5:  Loss:     0.0901 Validation Accuracy: 0.750800\n",
      "Epoch 49, CIFAR-10 Batch 1:  Loss:     0.1306 Validation Accuracy: 0.748400\n",
      "Epoch 49, CIFAR-10 Batch 2:  Loss:     0.1064 Validation Accuracy: 0.743800\n",
      "Epoch 49, CIFAR-10 Batch 3:  Loss:     0.0634 Validation Accuracy: 0.757600\n",
      "Epoch 49, CIFAR-10 Batch 4:  Loss:     0.0816 Validation Accuracy: 0.757600\n",
      "Epoch 49, CIFAR-10 Batch 5:  Loss:     0.0867 Validation Accuracy: 0.752000\n",
      "Epoch 50, CIFAR-10 Batch 1:  Loss:     0.0959 Validation Accuracy: 0.756800\n",
      "Epoch 50, CIFAR-10 Batch 2:  Loss:     0.1194 Validation Accuracy: 0.747800\n",
      "Epoch 50, CIFAR-10 Batch 3:  Loss:     0.0933 Validation Accuracy: 0.746600\n",
      "Epoch 50, CIFAR-10 Batch 4:  Loss:     0.0934 Validation Accuracy: 0.747800\n",
      "Epoch 50, CIFAR-10 Batch 5:  Loss:     0.0850 Validation Accuracy: 0.751000\n"
     ]
    }
   ],
   "source": [
    "\"\"\"\n",
    "DON'T MODIFY ANYTHING IN THIS CELL\n",
    "\"\"\"\n",
    "save_model_path = './image_classification'\n",
    "\n",
    "print('Training...')\n",
    "with tf.Session() as sess:\n",
    "    # Initializing the variables\n",
    "    sess.run(tf.global_variables_initializer())\n",
    "    \n",
    "    # Training cycle\n",
    "    for epoch in range(epochs):\n",
    "        # Loop over all batches\n",
    "        n_batches = 5\n",
    "        for batch_i in range(1, n_batches + 1):\n",
    "            for batch_features, batch_labels in helper.load_preprocess_training_batch(batch_i, batch_size):\n",
    "                train_neural_network(sess, optimizer, keep_probability, batch_features, batch_labels)\n",
    "            print('Epoch {:>2}, CIFAR-10 Batch {}:  '.format(epoch + 1, batch_i), end='')\n",
    "            print_stats(sess, batch_features, batch_labels, cost, accuracy)\n",
    "            \n",
    "    # Save Model\n",
    "    saver = tf.train.Saver()\n",
    "    save_path = saver.save(sess, save_model_path)"
   ]
  },
  {
   "cell_type": "markdown",
   "metadata": {
    "deletable": true,
    "editable": true
   },
   "source": [
    "# Checkpoint\n",
    "The model has been saved to disk.\n",
    "## Test Model\n",
    "Test your model against the test dataset.  This will be your final accuracy. You should have an accuracy greater than 50%. If you don't, keep tweaking the model architecture and parameters."
   ]
  },
  {
   "cell_type": "code",
   "execution_count": 106,
   "metadata": {
    "collapsed": false,
    "deletable": true,
    "editable": true
   },
   "outputs": [
    {
     "name": "stdout",
     "output_type": "stream",
     "text": [
      "Incerteza média nos acertos 0.006059693741170984\n",
      "Incerteza média nos erros 0.026733014619711674\n",
      "Incerteza média nos acertos 0.005941326337089705\n",
      "Incerteza média nos erros 0.027290450642480875\n",
      "Incerteza média nos acertos 0.0060144472873774595\n",
      "Incerteza média nos erros 0.02682530892076831\n",
      "Incerteza média nos acertos 0.005958705115248789\n",
      "Incerteza média nos erros 0.026520731190064564\n",
      "Incerteza média nos acertos 0.005903559789395986\n",
      "Incerteza média nos erros 0.02692569270839105\n",
      "Incerteza média nos acertos 0.0058581699625983915\n",
      "Incerteza média nos erros 0.02730461494739239\n",
      "Incerteza média nos acertos 0.005855759069567821\n",
      "Incerteza média nos erros 0.027429648099848235\n",
      "Incerteza média nos acertos 0.005842384201012999\n",
      "Incerteza média nos erros 0.027865553740976892\n",
      "Incerteza média nos acertos 0.005839890165565957\n",
      "Incerteza média nos erros 0.02795116537055804\n",
      "Incerteza média nos acertos 0.005846543344018093\n",
      "Incerteza média nos erros 0.027911788105777373\n",
      "Testing Accuracy: 0.74111328125\n",
      "\n",
      "erros_certeza\n",
      "1466\n",
      "erros_incerteza\n",
      "1080\n",
      "acertos_certeza\n",
      "6052\n",
      "acertos_incertezas\n",
      "1402\n",
      "[0.057873137, 0.057159364, 0.057268582, 0.057646483, 0.057802528, 0.057369936, 0.056906216, 0.057474166, 0.057645231, 0.057469927]\n"
     ]
    },
    {
     "ename": "IndexError",
     "evalue": "index 4 is out of bounds for axis 0 with size 4",
     "output_type": "error",
     "traceback": [
      "\u001b[0;31m---------------------------------------------------------------------------\u001b[0m",
      "\u001b[0;31mIndexError\u001b[0m                                Traceback (most recent call last)",
      "\u001b[0;32m<ipython-input-106-a763d785d500>\u001b[0m in \u001b[0;36m<module>\u001b[0;34m()\u001b[0m\n\u001b[1;32m    148\u001b[0m \u001b[0;34m\u001b[0m\u001b[0m\n\u001b[1;32m    149\u001b[0m \u001b[0;34m\u001b[0m\u001b[0m\n\u001b[0;32m--> 150\u001b[0;31m \u001b[0mtest_model\u001b[0m\u001b[0;34m(\u001b[0m\u001b[0;34m)\u001b[0m\u001b[0;34m\u001b[0m\u001b[0m\n\u001b[0m",
      "\u001b[0;32m<ipython-input-106-a763d785d500>\u001b[0m in \u001b[0;36mtest_model\u001b[0;34m()\u001b[0m\n\u001b[1;32m    145\u001b[0m             \u001b[0mtf\u001b[0m\u001b[0;34m.\u001b[0m\u001b[0mnn\u001b[0m\u001b[0;34m.\u001b[0m\u001b[0mtop_k\u001b[0m\u001b[0;34m(\u001b[0m\u001b[0mtf\u001b[0m\u001b[0;34m.\u001b[0m\u001b[0mnn\u001b[0m\u001b[0;34m.\u001b[0m\u001b[0msoftmax\u001b[0m\u001b[0;34m(\u001b[0m\u001b[0mloaded_logits\u001b[0m\u001b[0;34m)\u001b[0m\u001b[0;34m,\u001b[0m \u001b[0mtop_n_predictions\u001b[0m\u001b[0;34m)\u001b[0m\u001b[0;34m,\u001b[0m\u001b[0;34m\u001b[0m\u001b[0m\n\u001b[1;32m    146\u001b[0m             feed_dict={loaded_x: random_test_features, loaded_y: random_test_labels, loaded_keep_prob: 1.0})\n\u001b[0;32m--> 147\u001b[0;31m         \u001b[0mhelper\u001b[0m\u001b[0;34m.\u001b[0m\u001b[0mdisplay_image_predictions\u001b[0m\u001b[0;34m(\u001b[0m\u001b[0mrandom_test_features\u001b[0m\u001b[0;34m,\u001b[0m \u001b[0mrandom_test_labels\u001b[0m\u001b[0;34m,\u001b[0m \u001b[0mrandom_test_predictions\u001b[0m\u001b[0;34m,\u001b[0m \u001b[0muncert\u001b[0m\u001b[0;34m)\u001b[0m\u001b[0;34m\u001b[0m\u001b[0m\n\u001b[0m\u001b[1;32m    148\u001b[0m \u001b[0;34m\u001b[0m\u001b[0m\n\u001b[1;32m    149\u001b[0m \u001b[0;34m\u001b[0m\u001b[0m\n",
      "\u001b[0;32m/output/helper.py\u001b[0m in \u001b[0;36mdisplay_image_predictions\u001b[0;34m(features, labels, predictions, uncertainty)\u001b[0m\n\u001b[1;32m    156\u001b[0m         \u001b[0mcorrect_name\u001b[0m \u001b[0;34m=\u001b[0m \u001b[0mlabel_names\u001b[0m\u001b[0;34m[\u001b[0m\u001b[0mlabel_id\u001b[0m\u001b[0;34m]\u001b[0m\u001b[0;34m\u001b[0m\u001b[0m\n\u001b[1;32m    157\u001b[0m \u001b[0;34m\u001b[0m\u001b[0m\n\u001b[0;32m--> 158\u001b[0;31m         \u001b[0maxies\u001b[0m\u001b[0;34m[\u001b[0m\u001b[0mimage_i\u001b[0m\u001b[0;34m]\u001b[0m\u001b[0;34m[\u001b[0m\u001b[0;36m0\u001b[0m\u001b[0;34m]\u001b[0m\u001b[0;34m.\u001b[0m\u001b[0mimshow\u001b[0m\u001b[0;34m(\u001b[0m\u001b[0mfeature\u001b[0m\u001b[0;34m)\u001b[0m\u001b[0;34m\u001b[0m\u001b[0m\n\u001b[0m\u001b[1;32m    159\u001b[0m         \u001b[0maxies\u001b[0m\u001b[0;34m[\u001b[0m\u001b[0mimage_i\u001b[0m\u001b[0;34m]\u001b[0m\u001b[0;34m[\u001b[0m\u001b[0;36m0\u001b[0m\u001b[0;34m]\u001b[0m\u001b[0;34m.\u001b[0m\u001b[0mset_title\u001b[0m\u001b[0;34m(\u001b[0m\u001b[0mcorrect_name\u001b[0m \u001b[0;34m+\u001b[0m \u001b[0;34m\"; uncertainty: \"\u001b[0m \u001b[0;34m+\u001b[0m \u001b[0mstr\u001b[0m\u001b[0;34m(\u001b[0m\u001b[0muncertainty\u001b[0m\u001b[0;34m[\u001b[0m\u001b[0mimage_i\u001b[0m\u001b[0;34m]\u001b[0m\u001b[0;34m)\u001b[0m\u001b[0;34m)\u001b[0m\u001b[0;34m\u001b[0m\u001b[0m\n\u001b[1;32m    160\u001b[0m         \u001b[0maxies\u001b[0m\u001b[0;34m[\u001b[0m\u001b[0mimage_i\u001b[0m\u001b[0;34m]\u001b[0m\u001b[0;34m[\u001b[0m\u001b[0;36m0\u001b[0m\u001b[0;34m]\u001b[0m\u001b[0;34m.\u001b[0m\u001b[0mset_axis_off\u001b[0m\u001b[0;34m(\u001b[0m\u001b[0;34m)\u001b[0m\u001b[0;34m\u001b[0m\u001b[0m\n",
      "\u001b[0;31mIndexError\u001b[0m: index 4 is out of bounds for axis 0 with size 4"
     ]
    },
    {
     "data": {
      "image/png": "[encoded data removed]",
      "text/plain": [
       "<matplotlib.figure.Figure at 0x7fe062710048>"
      ]
     },
     "metadata": {
      "image/png": {
       "height": 319,
       "width": 416
      }
     },
     "output_type": "display_data"
    }
   ],
   "source": [
    "\"\"\"\n",
    "DON'T MODIFY ANYTHING IN THIS CELL\n",
    "\"\"\"\n",
    "\n",
    "\n",
    "%matplotlib inline\n",
    "%config InlineBackend.figure_format = 'retina'\n",
    "\n",
    "import tensorflow as tf\n",
    "import pickle\n",
    "import helper\n",
    "import random\n",
    "import importlib\n",
    "\n",
    "importlib.reload(helper)\n",
    "\n",
    "# Set batch size if not already set\n",
    "try:\n",
    "    if batch_size:\n",
    "        pass\n",
    "except NameError:\n",
    "    batch_size = 64\n",
    "\n",
    "save_model_path = './image_classification'\n",
    "n_samples = 10\n",
    "top_n_predictions = 3\n",
    "\n",
    "def test_model():\n",
    "    \"\"\"\n",
    "    Test the saved model against the test dataset\n",
    "    \"\"\"\n",
    "\n",
    "    test_features, test_labels = pickle.load(open('preprocess_training.p', mode='rb'))\n",
    "    loaded_graph = tf.Graph()\n",
    "\n",
    "    with tf.Session(graph=loaded_graph) as sess:\n",
    "        # Load model\n",
    "        loader = tf.train.import_meta_graph(save_model_path + '.meta')\n",
    "        loader.restore(sess, save_model_path)\n",
    "\n",
    "        # Get Tensors from loaded model\n",
    "        loaded_x = loaded_graph.get_tensor_by_name('x:0')\n",
    "        loaded_y = loaded_graph.get_tensor_by_name('y:0')\n",
    "        loaded_keep_prob = loaded_graph.get_tensor_by_name('keep_prob:0')\n",
    "        loaded_logits = loaded_graph.get_tensor_by_name('logits:0')\n",
    "        loaded_acc = loaded_graph.get_tensor_by_name('accuracy:0')\n",
    "        loaded_correct_pred = loaded_graph.get_tensor_by_name('correct_pred:0')\n",
    "        \n",
    "        # Get accuracy in batches for memory limitations\n",
    "        test_batch_acc_total = 0\n",
    "        test_batch_count = 0\n",
    "        \n",
    "        \n",
    "        # usar 1 examplo rodar a rede neural varias vezes usando o keep_prob original e tentar adivinhar qual a certeza dele\n",
    "        # separar a certeza nos acertos e nos erros\n",
    "        acerto_incerteza = 0\n",
    "        acertos = 0\n",
    "        erro_incerteza = 0\n",
    "        erros = 0\n",
    "        \n",
    "        \n",
    "        erros_certeza = 0\n",
    "        erros_incerteza = 0\n",
    "        acertos_certeza = 0\n",
    "        acertos_incertezas = 0\n",
    "        \n",
    "        batch_size = 256\n",
    "        \n",
    "        for train_feature_batch, train_label_batch in helper.batch_features_labels(test_features, test_labels, batch_size):\n",
    "            acerto = sess.run(\n",
    "                loaded_correct_pred,\n",
    "                feed_dict={loaded_x: train_feature_batch, loaded_y: train_label_batch, loaded_keep_prob: 1.0})\n",
    "            \n",
    "            acc = sess.run(\n",
    "                loaded_acc,\n",
    "                feed_dict={loaded_x: train_feature_batch, loaded_y: train_label_batch, loaded_keep_prob: 1.0})\n",
    "                \n",
    "            #print(acerto.shape) # 256\n",
    "            \n",
    "            logits_com_dropout = None\n",
    "            for i in range(12):\n",
    "                session_accu = sess.run(\n",
    "                tf.reshape(tf.nn.softmax(loaded_logits), [-1, 1, 10]),\n",
    "                feed_dict={loaded_x: train_feature_batch, loaded_y: train_label_batch, loaded_keep_prob: keep_probability})\n",
    "\n",
    "                if logits_com_dropout is None:\n",
    "                    logits_com_dropout = session_accu\n",
    "                else:\n",
    "                    logits_com_dropout = np.concatenate((logits_com_dropout, session_accu), axis=1)\n",
    "            \n",
    "          \n",
    "            acertos += len(acerto[acerto == True])\n",
    "            erros += len(acerto[acerto == False])\n",
    "            \n",
    "            # 256 shape\n",
    "            incertezas = np.mean(np.var(logits_com_dropout, axis=1), axis=1)\n",
    "\n",
    "\n",
    "            erro_incerteza += np.sum(incertezas[acerto == True])\n",
    "            acerto_incerteza += np.sum(incertezas[acerto == False])\n",
    "            \n",
    "            limite = 0.018\n",
    "            incertezas_nos_acertos = incertezas[acerto == True]\n",
    "            incertezas_nos_erros = incertezas[acerto == False]\n",
    "            erros_certeza += len(incertezas_nos_erros[incertezas_nos_erros < limite])\n",
    "            erros_incerteza += len(incertezas_nos_erros[incertezas_nos_erros >= limite])\n",
    "            acertos_certeza += len(incertezas_nos_acertos[incertezas_nos_acertos < limite])\n",
    "            acertos_incertezas += len(incertezas_nos_acertos[incertezas_nos_acertos >= limite])\n",
    "            \n",
    "            test_batch_acc_total += acc\n",
    "            test_batch_count += 1\n",
    "            if (acertos % 5 == 0):\n",
    "                print(\"Incerteza média nos acertos {}\".format(acerto_incerteza/acertos))\n",
    "                print(\"Incerteza média nos erros {}\".format(erro_incerteza/erros))\n",
    "\n",
    "        print(\"Incerteza média nos acertos {}\".format(acerto_incerteza/acertos))\n",
    "        print(\"Incerteza média nos erros {}\".format(erro_incerteza/erros))\n",
    "        print('Testing Accuracy: {}\\n'.format(test_batch_acc_total/test_batch_count))\n",
    "        \n",
    "        print(\"erros_certeza\")\n",
    "        print(erros_certeza)\n",
    "        print(\"erros_incerteza\")\n",
    "        print(erros_incerteza)\n",
    "        print(\"acertos_certeza\")\n",
    "        print(acertos_certeza)\n",
    "        print(\"acertos_incertezas\")\n",
    "        print(acertos_incertezas)\n",
    "\n",
    "        # Print Random Samples\n",
    "        random_test_features, random_test_labels = tuple(zip(*random.sample(list(zip(test_features, test_labels)), n_samples)))\n",
    "        uncert = []\n",
    "        for t in random_test_features:\n",
    "            logits_com_dropout = np.array([], dtype=np.float32).reshape(0,10)\n",
    "            for i in range(100):\n",
    "                session_accu = sess.run(\n",
    "                tf.nn.softmax(loaded_logits),\n",
    "                feed_dict={loaded_x: train_feature_batch, loaded_y: train_label_batch, loaded_keep_prob: keep_probability})\n",
    "                logits_com_dropout = np.concatenate((logits_com_dropout, session_accu), axis=0)\n",
    "            \n",
    "            uncert.append(np.mean(np.var(logits_com_dropout, axis=0)))\n",
    "             \n",
    "        print(uncert)\n",
    "                \n",
    "        random_test_predictions = sess.run(\n",
    "            tf.nn.top_k(tf.nn.softmax(loaded_logits), top_n_predictions),\n",
    "            feed_dict={loaded_x: random_test_features, loaded_y: random_test_labels, loaded_keep_prob: 1.0})\n",
    "        helper.display_image_predictions(random_test_features, random_test_labels, random_test_predictions, uncert)\n",
    "\n",
    "\n",
    "test_model()"
   ]
  },
  {
   "cell_type": "markdown",
   "metadata": {
    "deletable": true,
    "editable": true
   },
   "source": [
    "## Why 50-70% Accuracy?\n",
    "You might be wondering why you can't get an accuracy any higher. First things first, 50% isn't bad for a simple CNN.  Pure guessing would get you 10% accuracy. However, you might notice people are getting scores [well above 70%](http://rodrigob.github.io/are_we_there_yet/build/classification_datasets_results.html#43494641522d3130).  That's because we haven't taught you all there is to know about neural networks. We still need to cover a few more techniques.\n",
    "## Submitting This Project\n",
    "When submitting this project, make sure to run all the cells before saving the notebook.  Save the notebook file as \"dlnd_image_classification.ipynb\" and save it as a HTML file under \"File\" -> \"Download as\".  Include the \"helper.py\" and \"problem_unittests.py\" files in your submission."
   ]
  }
 ],
 "metadata": {
  "kernelspec": {
   "display_name": "Python 3",
   "language": "python",
   "name": "python3"
  },
  "language_info": {
   "codemirror_mode": {
    "name": "ipython",
    "version": 3
   },
   "file_extension": ".py",
   "mimetype": "text/x-python",
   "name": "python",
   "nbconvert_exporter": "python",
   "pygments_lexer": "ipython3",
   "version": "3.5.3"
  }
 },
 "nbformat": 4,
 "nbformat_minor": 0
}
